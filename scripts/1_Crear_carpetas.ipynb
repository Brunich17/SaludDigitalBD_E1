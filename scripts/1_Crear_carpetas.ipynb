{
 "cells": [
  {
   "cell_type": "code",
   "execution_count": 3,
   "id": "3385ecfe",
   "metadata": {},
   "outputs": [
    {
     "name": "stdout",
     "output_type": "stream",
     "text": [
      "✅ Carpeta 'data' lista en e:\\SaludDigitalBD_E1\\scripts\\..\\data\n",
      "✅ Carpeta 'database' lista en e:\\SaludDigitalBD_E1\\scripts\\..\\database\n",
      "✅ Carpeta 'scripts' lista en e:\\SaludDigitalBD_E1\\scripts\\..\\scripts\n",
      "✅ Carpeta 'reports' lista en e:\\SaludDigitalBD_E1\\scripts\\..\\reports\n",
      "✅ Carpeta 'ci' lista en e:\\SaludDigitalBD_E1\\scripts\\..\\ci\n",
      "✅ Carpeta 'git' lista en e:\\SaludDigitalBD_E1\\scripts\\..\\git\n",
      "✅ Carpeta 'docs' lista en e:\\SaludDigitalBD_E1\\scripts\\..\\docs\n",
      "\n",
      "🚀 Estructura de proyecto creada correctamente.\n"
     ]
    }
   ],
   "source": [
    "# 1_crear_estructura.py\n",
    "from pathlib import Path\n",
    "\n",
    "# Carpetas principales del proyecto\n",
    "carpetas = [\"data\", \"database\", \"scripts\", \"reports\", \"ci\", \"git\", \"docs\"]\n",
    "\n",
    "# Crear estructura\n",
    "for carpeta in carpetas:\n",
    "    ruta = Path.cwd() /  f\"../{carpeta}\"\n",
    "    ruta.mkdir(parents=True, exist_ok=True)\n",
    "    print(f\"✅ Carpeta '{carpeta}' lista en {ruta}\")\n",
    "\n",
    "print(\"\\n🚀 Estructura de proyecto creada correctamente.\")\n"
   ]
  }
 ],
 "metadata": {
  "kernelspec": {
   "display_name": "myenv",
   "language": "python",
   "name": "python3"
  },
  "language_info": {
   "codemirror_mode": {
    "name": "ipython",
    "version": 3
   },
   "file_extension": ".py",
   "mimetype": "text/x-python",
   "name": "python",
   "nbconvert_exporter": "python",
   "pygments_lexer": "ipython3",
   "version": "3.13.5"
  }
 },
 "nbformat": 4,
 "nbformat_minor": 5
}
