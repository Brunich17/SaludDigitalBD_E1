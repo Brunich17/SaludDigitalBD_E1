{
 "cells": [
  {
   "cell_type": "code",
   "execution_count": 1,
   "id": "2eda7de1",
   "metadata": {},
   "outputs": [
    {
     "name": "stdout",
     "output_type": "stream",
     "text": [
      "✅ Archivo 'base.csv' creado correctamente en: e:\\SaludDigitalBD_E1\\data\\base.csv\n"
     ]
    }
   ],
   "source": [
    "# 2_definir_esquema.py\n",
    "from pathlib import Path\n",
    "\n",
    "# Ruta a la carpeta data (una arriba de scripts/)\n",
    "data_path = Path.cwd().parent / \"data\"\n",
    "data_path.mkdir(parents=True, exist_ok=True)\n",
    "\n",
    "# Ruta del archivo base CSV\n",
    "archivo_csv = data_path / \"base.csv\"\n",
    "\n",
    "# Encabezados del esquema del proyecto SaludDigitalBD_E1\n",
    "encabezados = \"id_paciente,nombre,edad,sexo,distrito,servicio,fecha_atencion,monto\\n\"\n",
    "\n",
    "# Crear archivo solo si no existe\n",
    "if not archivo_csv.exists():\n",
    "    with open(archivo_csv, \"w\", encoding=\"utf-8\") as f:\n",
    "        f.write(encabezados)\n",
    "    print(f\"✅ Archivo 'base.csv' creado correctamente en: {archivo_csv}\")\n",
    "else:\n",
    "    print(f\"ℹ️ El archivo 'base.csv' ya existe en: {archivo_csv}\")\n"
   ]
  }
 ],
 "metadata": {
  "kernelspec": {
   "display_name": "myenv",
   "language": "python",
   "name": "python3"
  },
  "language_info": {
   "codemirror_mode": {
    "name": "ipython",
    "version": 3
   },
   "file_extension": ".py",
   "mimetype": "text/x-python",
   "name": "python",
   "nbconvert_exporter": "python",
   "pygments_lexer": "ipython3",
   "version": "3.13.5"
  }
 },
 "nbformat": 4,
 "nbformat_minor": 5
}
