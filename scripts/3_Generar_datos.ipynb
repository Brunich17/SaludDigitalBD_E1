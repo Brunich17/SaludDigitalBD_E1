{
 "cells": [
  {
   "cell_type": "code",
   "execution_count": 2,
   "id": "faf87c39",
   "metadata": {},
   "outputs": [
    {
     "name": "stdout",
     "output_type": "stream",
     "text": [
      "✅ Archivo generado correctamente en: e:\\SaludDigitalBD_E1\\data\\pacientes.csv\n",
      "📊 Total de registros: 1000\n"
     ]
    }
   ],
   "source": [
    "# 3_generar_data.py\n",
    "from pathlib import Path\n",
    "import csv\n",
    "import random\n",
    "from datetime import datetime, timedelta\n",
    "\n",
    "# 1️⃣ Crear carpeta \"data\" si no existe\n",
    "data_path = Path.cwd().parent / \"data\"\n",
    "data_path.mkdir(parents=True, exist_ok=True)\n",
    "\n",
    "# 2️⃣ Definir archivo CSV\n",
    "csv_file = data_path / \"pacientes.csv\"\n",
    "\n",
    "# 3️⃣ Listas base de datos simulados\n",
    "nombres = [\"Ana\", \"Luis\", \"Carlos\", \"María\", \"José\", \"Elena\", \"Jorge\", \"Rosa\", \"Lucía\", \"Pedro\"]\n",
    "apellidos = [\"Torres\", \"Pérez\", \"Gómez\", \"Ramírez\", \"López\", \"Salazar\", \"Rojas\", \"Campos\", \"Vega\", \"Mendoza\"]\n",
    "servicios = [\"Odontología\", \"Pediatría\", \"Medicina General\", \"Cardiología\", \"Ginecología\", \"Traumatología\", \"NA\"]\n",
    "distritos = [\"Miraflores\", \"Surco\", \"San Isidro\", \"La Molina\", \"Cercado\", \"SJL\", \"Los Olivos\", \"Callao\", None]\n",
    "sexos = [\"M\", \"F\", \"O\", \"NA\"]\n",
    "\n",
    "# 4️⃣ Función auxiliar para generar fechas aleatorias\n",
    "def generar_fecha():\n",
    "    \"\"\"Genera una fecha aleatoria entre 2020 y 2025\"\"\"\n",
    "    inicio = datetime(2020, 1, 1)\n",
    "    fin = datetime(2025, 12, 31)\n",
    "    delta = fin - inicio\n",
    "    fecha_random = inicio + timedelta(days=random.randint(0, delta.days))\n",
    "    # Formatos mezclados para simular errores\n",
    "    formatos = [\"%Y-%m-%d\", \"%d/%m/%Y\", \"%m-%d-%Y\"]\n",
    "    return fecha_random.strftime(random.choice(formatos))\n",
    "\n",
    "# 5️⃣ Crear registros simulados\n",
    "registros = []\n",
    "for i in range(1, 1001):  # puedes cambiar a 3000 si deseas\n",
    "    id_paciente = f\"P{str(i).zfill(4)}\"\n",
    "    nombre = f\"{random.choice(nombres)} {random.choice(apellidos)}\"\n",
    "    edad = random.choices([random.randint(1, 90), \"NA\", None], weights=[0.9, 0.05, 0.05])[0]\n",
    "    sexo = random.choice(sexos)\n",
    "    distrito = random.choice(distritos)\n",
    "    servicio = random.choice(servicios)\n",
    "    fecha_atencion = generar_fecha()\n",
    "    monto = random.choices([round(random.uniform(20, 500), 2), \"NA\", None], weights=[0.9, 0.05, 0.05])[0]\n",
    "    registros.append([id_paciente, nombre, edad, sexo, distrito, servicio, fecha_atencion, monto])\n",
    "\n",
    "# 6️⃣ Escribir en el archivo CSV\n",
    "with open(csv_file, mode=\"w\", newline=\"\", encoding=\"utf-8\") as file:\n",
    "    writer = csv.writer(file)\n",
    "    writer.writerow([\"id_paciente\", \"nombre\", \"edad\", \"sexo\", \"distrito\", \"servicio\", \"fecha_atencion\", \"monto\"])\n",
    "    writer.writerows(registros)\n",
    "\n",
    "print(f\"✅ Archivo generado correctamente en: {csv_file}\")\n",
    "print(f\"📊 Total de registros: {len(registros)}\")\n"
   ]
  }
 ],
 "metadata": {
  "kernelspec": {
   "display_name": "myenv",
   "language": "python",
   "name": "python3"
  },
  "language_info": {
   "codemirror_mode": {
    "name": "ipython",
    "version": 3
   },
   "file_extension": ".py",
   "mimetype": "text/x-python",
   "name": "python",
   "nbconvert_exporter": "python",
   "pygments_lexer": "ipython3",
   "version": "3.13.5"
  }
 },
 "nbformat": 4,
 "nbformat_minor": 5
}
