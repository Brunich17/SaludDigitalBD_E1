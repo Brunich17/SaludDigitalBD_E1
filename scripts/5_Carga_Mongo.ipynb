{
 "cells": [
  {
   "cell_type": "code",
   "execution_count": 1,
   "id": "ca742800",
   "metadata": {},
   "outputs": [
    {
     "name": "stdout",
     "output_type": "stream",
     "text": [
      "📖 Archivo leído correctamente: 1000 registros\n",
      "✅ Conectado a MongoDB -> Base de datos: SaludDigital_2025, Colección: pacientes\n",
      "📦 Insertados 1000 documentos en MongoDB.\n",
      "🔒 Conexión con MongoDB cerrada correctamente.\n"
     ]
    }
   ],
   "source": [
    "# 5_loading_mongodb.py\n",
    "import pandas as pd\n",
    "from pymongo import MongoClient\n",
    "from pathlib import Path\n",
    "import os\n",
    "\n",
    "# 1️⃣ Definir rutas\n",
    "database_path = Path.cwd().parent / \"database\"\n",
    "input_file = database_path / \"pacientes_clean.csv\"\n",
    "\n",
    "# 2️⃣ Verificar que el archivo limpio exista\n",
    "if not input_file.exists():\n",
    "    print(f\"⚠️ No se encontró el archivo {input_file}\")\n",
    "    print(\"💡 Ejecuta primero el script '4_proceso_etl.py' para generar los datos limpios.\")\n",
    "    exit()\n",
    "\n",
    "# 3️⃣ Leer los datos limpios\n",
    "df = pd.read_csv(input_file)\n",
    "print(f\"📖 Archivo leído correctamente: {len(df)} registros\")\n",
    "\n",
    "# 4️⃣ Conexión a MongoDB\n",
    "# Puedes usar tu propia cadena de conexión (por ejemplo desde MongoDB Atlas)\n",
    "MONGO_URI = os.getenv(\"MONGO_URI\", \"mongodb://localhost:27017\")\n",
    "DB_NAME = \"SaludDigital_2025\"\n",
    "COLLECTION = \"pacientes\"\n",
    "\n",
    "try:\n",
    "    client = MongoClient(MONGO_URI)\n",
    "    db = client[DB_NAME]\n",
    "    collection = db[COLLECTION]\n",
    "    print(f\"✅ Conectado a MongoDB -> Base de datos: {DB_NAME}, Colección: {COLLECTION}\")\n",
    "except Exception as e:\n",
    "    print(\"❌ Error al conectar con MongoDB:\", e)\n",
    "    exit()\n",
    "\n",
    "# 5️⃣ Preparar los datos para inserción\n",
    "records = df.to_dict(orient=\"records\")\n",
    "\n",
    "# 6️⃣ Insertar registros\n",
    "if records:\n",
    "    collection.delete_many({})  # Limpia la colección antes de insertar (opcional)\n",
    "    result = collection.insert_many(records)\n",
    "    print(f\"📦 Insertados {len(result.inserted_ids)} documentos en MongoDB.\")\n",
    "else:\n",
    "    print(\"⚠️ No hay registros para insertar.\")\n",
    "\n",
    "# 7️⃣ Cerrar la conexión\n",
    "client.close()\n",
    "print(\"🔒 Conexión con MongoDB cerrada correctamente.\")\n"
   ]
  }
 ],
 "metadata": {
  "kernelspec": {
   "display_name": "myenv",
   "language": "python",
   "name": "python3"
  },
  "language_info": {
   "codemirror_mode": {
    "name": "ipython",
    "version": 3
   },
   "file_extension": ".py",
   "mimetype": "text/x-python",
   "name": "python",
   "nbconvert_exporter": "python",
   "pygments_lexer": "ipython3",
   "version": "3.13.5"
  }
 },
 "nbformat": 4,
 "nbformat_minor": 5
}
